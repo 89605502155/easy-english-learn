{
 "cells": [
  {
   "cell_type": "code",
   "execution_count": null,
   "metadata": {
    "scrolled": true
   },
   "outputs": [],
   "source": [
    "import pandas as pd\n",
    "import numpy as np\n",
    "import os\n",
    "df = pd.read_excel('C:/Users/admin/Desktop/англ игра/a1.xlsx', header=None)\n",
    "r=input(\"хотители вы просмотреть словарь:\")\n",
    "if (r==\"да\"):\n",
    "    print(df)\n",
    "a=[]\n",
    "v=[]\n",
    "for i in df.index:\n",
    "    a+=[df.iloc[i,0]] #столбец английских слов\n",
    "    v+=[df.iloc[i,1]]  #столбец переводов\n",
    "print (v)\n",
    "import random\n",
    "c=int(input(\"сколько слов ты хочешь проработать:\"))\n",
    "for i in range(0,c):\n",
    "    s=random.randint(0,len(a)-1)\n",
    "    print(v[s])\n",
    "    r=input()\n",
    "    if (r==a[s]):\n",
    "        print (\"Правильно\")\n",
    "    if (r!=a[s]) and (r!=str(0)):\n",
    "        h=0\n",
    "        while ((r!=a[s])and (r!=str(0))) or (h<15):\n",
    "            print (\"Неравильно\")\n",
    "            print(v[s])\n",
    "            r=input()\n",
    "            if ((r==a[s])):\n",
    "                break\n",
    "            if (h==14):\n",
    "                print(v[s]+\"- это \"+ a[s])\n",
    "            h+=1\n",
    "    if (r==str(0)):\n",
    "        break\n"
   ]
  },
  {
   "cell_type": "code",
   "execution_count": null,
   "metadata": {},
   "outputs": [],
   "source": []
  },
  {
   "cell_type": "code",
   "execution_count": null,
   "metadata": {},
   "outputs": [],
   "source": []
  },
  {
   "cell_type": "code",
   "execution_count": null,
   "metadata": {},
   "outputs": [],
   "source": []
  },
  {
   "cell_type": "code",
   "execution_count": null,
   "metadata": {},
   "outputs": [],
   "source": []
  },
  {
   "cell_type": "code",
   "execution_count": null,
   "metadata": {},
   "outputs": [],
   "source": []
  },
  {
   "cell_type": "code",
   "execution_count": null,
   "metadata": {},
   "outputs": [],
   "source": []
  },
  {
   "cell_type": "code",
   "execution_count": null,
   "metadata": {},
   "outputs": [],
   "source": []
  }
 ],
 "metadata": {
  "kernelspec": {
   "display_name": "Python 3",
   "language": "python",
   "name": "python3"
  },
  "language_info": {
   "codemirror_mode": {
    "name": "ipython",
    "version": 3
   },
   "file_extension": ".py",
   "mimetype": "text/x-python",
   "name": "python",
   "nbconvert_exporter": "python",
   "pygments_lexer": "ipython3",
   "version": "3.7.4"
  }
 },
 "nbformat": 4,
 "nbformat_minor": 2
}
